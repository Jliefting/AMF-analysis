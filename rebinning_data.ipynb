{
 "cells": [
  {
   "cell_type": "code",
   "execution_count": 1,
   "id": "84123e7d-a5bc-4d52-beed-76036e40dffc",
   "metadata": {},
   "outputs": [],
   "source": [
    "import os\n",
    "import numpy as np\n",
    "from pathlib import Path\n",
    "from bioio import BioImage\n",
    "from glob import glob\n",
    "import matplotlib.pyplot as plt\n",
    "import bioio_czi\n",
    "import imagej\n",
    "from skimage import io\n",
    "from skimage.filters import meijering\n",
    "import segmentation as sg\n",
    "from skimage.transform import resize\n",
    "from skimage import util\n",
    "from skimage import filters\n",
    "import time\n",
    "import shutil\n",
    "from natsort import natsorted\n",
    "import re\n",
    "import os\n",
    "import warnings\n",
    "warnings.filterwarnings('ignore')\n",
    "os.environ['JAVA_HOME']=r'C:\\Users\\zeiss\\Downloads\\fiji-win64\\Fiji.app\\java\\win64\\zulu8.60.0.21-ca-fx-jdk8.0.322-win_x64\\jre\\bin'"
   ]
  },
  {
   "cell_type": "code",
   "execution_count": 2,
   "id": "92ef7457-41f1-486f-a8de-1a45e95c987a",
   "metadata": {},
   "outputs": [
    {
     "name": "stdout",
     "output_type": "stream",
     "text": [
      "ImageJ2 version: 2.15.0/1.54f\n"
     ]
    }
   ],
   "source": [
    "import imagej\n",
    "\n",
    "# initialize ImageJ2 with Fiji plugins\n",
    "ij = imagej.init('sc.fiji:fiji')\n",
    "print(f\"ImageJ2 version: {ij.getVersion()}\")"
   ]
  },
  {
   "cell_type": "code",
   "execution_count": 3,
   "id": "7f36c963-b6ba-4821-ab93-a2414693c241",
   "metadata": {},
   "outputs": [
    {
     "data": {
      "text/plain": [
       "[WindowsPath('G:/Data/Zeiss/Chip_growth_experiments/growth_tracking/rebinning trial/20241212_DAOM197198_0.50mM_Myr_G53A-C_Syringeless')]"
      ]
     },
     "execution_count": 3,
     "metadata": {},
     "output_type": "execute_result"
    }
   ],
   "source": [
    "folders = Path(r'F:\\rebinning_trial').glob('*/')\n",
    "folders = natsorted(list(folders))\n",
    "folders "
   ]
  },
  {
   "cell_type": "code",
   "execution_count": null,
   "id": "bf2fdafb-6745-4cd5-bd15-670b2f5fb459",
   "metadata": {},
   "outputs": [
    {
     "name": "stdout",
     "output_type": "stream",
     "text": [
      "G53A_D197198_MSR_pMyr0.5mM_Day0.tif\n",
      "(90, 13, 1104, 1600)\n",
      "G:\\Data\\Zeiss\\Chip_growth_experiments\\growth_tracking\\rebinning trial\\20241212_DAOM197198_0.50mM_Myr_G53A-C_Syringeless\\G53A_D197198_MSR_pMyr0.5mM_Day0.xml\n",
      "G53A_D197198_MSR_pMyr0.5mM_Day4.tif\n",
      "(90, 13, 1104, 1600)\n"
     ]
    }
   ],
   "source": [
    "for folder in folders:\n",
    "    days =natsorted(list(folder.glob('*.czi')))\n",
    "    for day in days:\n",
    "        #create savefolder\n",
    "        savefolder_string =  re.sub(r'_[dD]ay\\d+', '', day.stem)\n",
    "        savefolder = Path('rebinning_test',savefolder_string)\n",
    "        savefolder.mkdir(parents=True,exist_ok=True)\n",
    "        #save processed files\n",
    "        filename = f'{Path(day.stem)}.tif'\n",
    "        #if Path(savefolder,'Masks',filename).exists()!=True:\n",
    "            #try:\n",
    "            #print current file\n",
    "        print(filename)\n",
    "        \n",
    "        # Get an AICSImage object\n",
    "        img = BioImage(day, reconstruct_mosaic=False)\n",
    "        dask_data = img.get_image_dask_data('MZYX', S=2)\n",
    "        print(dask_data.shape)\n",
    "\n",
    "        #Rebin and save as tiff\n",
    "        rebinned_data = np.zeros(np.array(dask_data.shape)//(1,1,2,2))\n",
    "        for M in range(dask_data.shape[0]):\n",
    "        \n",
    "            # load and minimal project\n",
    "            chunk_loaded = dask_data[M,:,...]\n",
    "            chunk_resized = resize(chunk_loaded,np.array(chunk_loaded.shape)//(1,2,2))\n",
    "            rebinned_data[M] = chunk_resized\n",
    "\n",
    "        io.imsave(Path(savefolder,day.with_suffix('.tif')),rebinned_data)\n",
    "            \n",
    "        #savemetadata\n",
    "        ome = img.metadata\n",
    "        xml_bytes = ET.tostring(ome, encoding='utf-8')\n",
    "        xml_text = xml_bytes.decode('utf-8')\n",
    "        savefile_metadata = Path(savefolder,day.with_suffix('.xml'))\n",
    "        print(savefile_metadata)\n",
    "        with open(savefile_metadata, 'w', encoding='utf-8') as f:\n",
    "            f.write(xml_text)"
   ]
  }
 ],
 "metadata": {
  "kernelspec": {
   "display_name": "Python 3 (ipykernel)",
   "language": "python",
   "name": "python3"
  },
  "language_info": {
   "codemirror_mode": {
    "name": "ipython",
    "version": 3
   },
   "file_extension": ".py",
   "mimetype": "text/x-python",
   "name": "python",
   "nbconvert_exporter": "python",
   "pygments_lexer": "ipython3",
   "version": "3.10.18"
  }
 },
 "nbformat": 4,
 "nbformat_minor": 5
}
