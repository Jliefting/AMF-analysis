{
 "cells": [
  {
   "cell_type": "code",
   "execution_count": 1,
   "id": "c45580ca-e8be-483c-a0f9-82e8a805c7a8",
   "metadata": {},
   "outputs": [
    {
     "ename": "ModuleNotFoundError",
     "evalue": "No module named 'napari'",
     "output_type": "error",
     "traceback": [
      "\u001b[1;31m---------------------------------------------------------------------------\u001b[0m",
      "\u001b[1;31mModuleNotFoundError\u001b[0m                       Traceback (most recent call last)",
      "Cell \u001b[1;32mIn[1], line 1\u001b[0m\n\u001b[1;32m----> 1\u001b[0m \u001b[38;5;28;01mimport\u001b[39;00m\u001b[38;5;250m \u001b[39m\u001b[38;5;21;01mnapari\u001b[39;00m\n\u001b[0;32m      2\u001b[0m \u001b[38;5;28;01mfrom\u001b[39;00m\u001b[38;5;250m \u001b[39m\u001b[38;5;21;01mnatsort\u001b[39;00m\u001b[38;5;250m \u001b[39m\u001b[38;5;28;01mimport\u001b[39;00m natsorted\n\u001b[0;32m      3\u001b[0m \u001b[38;5;28;01mfrom\u001b[39;00m\u001b[38;5;250m \u001b[39m\u001b[38;5;21;01mglob\u001b[39;00m\u001b[38;5;250m \u001b[39m\u001b[38;5;28;01mimport\u001b[39;00m glob\n",
      "\u001b[1;31mModuleNotFoundError\u001b[0m: No module named 'napari'"
     ]
    }
   ],
   "source": [
    "import napari\n",
    "from natsort import natsorted\n",
    "from glob import glob\n",
    "from pathlib import Path\n",
    "from skimage import io\n",
    "import numpy as np"
   ]
  },
  {
   "cell_type": "code",
   "execution_count": 6,
   "id": "c3c1ab4d-3051-49ac-a53a-846e344c7f4e",
   "metadata": {},
   "outputs": [
    {
     "data": {
      "text/plain": [
       "['.\\\\processed_250326\\\\G49A_C2_MSR_pMyr0.5mM',\n",
       " '.\\\\processed_250326\\\\G49B_C2_MSR_pMyr0.5mM',\n",
       " '.\\\\processed_250326\\\\G49C_C2_MSR_pMyr0.5mM',\n",
       " '.\\\\processed_250326\\\\G50A_D197198_MSR_pMyr0.5mM',\n",
       " '.\\\\processed_250326\\\\G50B_D197198_MSR_pMyr0.5mM',\n",
       " '.\\\\processed_250326\\\\G50C_D197198_MSR_pMyr0.5mM',\n",
       " '.\\\\processed_250326\\\\G51A_D197198_MSR_pMyr0.5mM',\n",
       " '.\\\\processed_250326\\\\G51B_D197198_MSR_pMyr0.5mM',\n",
       " '.\\\\processed_250326\\\\G51C_D197198_MSR_pMyr0.5mM',\n",
       " '.\\\\processed_250326\\\\G52A_D197198_MSR_pMyr0.5mM_G24_0.05mM',\n",
       " '.\\\\processed_250326\\\\G52B_D197198_MSR_pMyr0.5mM_G24_0.05mM',\n",
       " '.\\\\processed_250326\\\\G52C_D197198_MSR_pMyr0.5mM_G24_0.05mM',\n",
       " '.\\\\processed_250326\\\\G53A_D197198_MSR_pMyr0.5mM',\n",
       " '.\\\\processed_250326\\\\G53B_D197198_MSR_pMyr0.5mM',\n",
       " '.\\\\processed_250326\\\\G53C_D197198_MSR_pMyr0.5mM',\n",
       " '.\\\\processed_250326\\\\G54A_D197198_MSR_pMyr0.5mM_PVC',\n",
       " '.\\\\processed_250326\\\\G54A_D197198_MSR_pMyr0.5mM_PVC_PreFix',\n",
       " '.\\\\processed_250326\\\\G54A_D197198_MSR_pMyr0.5mM_PVC_dapi',\n",
       " '.\\\\processed_250326\\\\G54B_D197198_MSR_pMyr0.5mM_PVC',\n",
       " '.\\\\processed_250326\\\\G54C_D197198_MSR_pMyr0.5mM_Silicone',\n",
       " '.\\\\processed_250326\\\\G54C_D197198_MSR_pMyr0.5mM_Silicone_DAPI',\n",
       " '.\\\\processed_250326\\\\G54D_D197198_MSR_pMyr0.5mM_Silicone',\n",
       " '.\\\\processed_250326\\\\G54E_D197198_MSR_pMyr0.5mM_ConA_Silicone',\n",
       " '.\\\\processed_250326\\\\G54F_D197198_MSR_pMyr0.5mM_ConA_Silicone',\n",
       " '.\\\\processed_250326\\\\G55A_D197198_MSR_pMyr0.5mM_G24_100nM_directional_PVC',\n",
       " '.\\\\processed_250326\\\\G55B_D197198_MSR_pMyr0.5mM_G24_100nM_directional_PVC',\n",
       " '.\\\\processed_250326\\\\G56A_A1_C2_MSR_pMyr0.5mM_PVC',\n",
       " '.\\\\processed_250326\\\\G56B_C2_A1_MSR_pMyr0.5mM_PVC',\n",
       " '.\\\\processed_250326\\\\G56C_A1_C2_MSR_pMyr0.5mM_PVC',\n",
       " '.\\\\processed_250326\\\\G57A_C2_MSR_pMyr0.5mM_PVC',\n",
       " '.\\\\processed_250326\\\\G60A_D197198_MSR_pMyr0.5mM',\n",
       " '.\\\\processed_250326\\\\G60B_D197198_MSR_pMyr0.5mM',\n",
       " '.\\\\processed_250326\\\\G60C_D197198_MSR_pMyr0.5mM',\n",
       " '.\\\\processed_250326\\\\G60D_D197198_MSR_pMyr0.5mM',\n",
       " '.\\\\processed_250326\\\\G61A_D197198_MSR_pMyr0.5mM',\n",
       " '.\\\\processed_250326\\\\G61B_D197198_MSR_pMyr0.5mM',\n",
       " '.\\\\processed_250326\\\\G61C_D197198_MSR_pMyr0.5mM',\n",
       " '.\\\\processed_250326\\\\G62A_D197198_MSR_pMyr0.5mM',\n",
       " '.\\\\processed_250326\\\\G62B_D197198_MSR_pMyr0.5mM',\n",
       " '.\\\\processed_250326\\\\G62C_D197198_MSR_pMyr0.5mM',\n",
       " '.\\\\processed_250326\\\\G63A_C2_MSR_pMyr0.5mM',\n",
       " '.\\\\processed_250326\\\\G63B_C2_MSR_pMyr0.5mM',\n",
       " '.\\\\processed_250326\\\\G63C_C2_MSR_pMyr0.5mM',\n",
       " '.\\\\processed_250326\\\\G64A_C2_MSR_pMyr0.25mM']"
      ]
     },
     "execution_count": 6,
     "metadata": {},
     "output_type": "execute_result"
    }
   ],
   "source": [
    "path = fr'.\\processed_250326\\*'\n",
    "folders = natsorted(glob(path))\n",
    "folders = folders[:-1]\n",
    "folders"
   ]
  },
  {
   "cell_type": "code",
   "execution_count": 7,
   "id": "20c41121-67e3-455c-a72f-abd718062402",
   "metadata": {},
   "outputs": [
    {
     "data": {
      "text/plain": [
       "'.\\\\processed_250326\\\\G49A_C2_MSR_pMyr0.5mM'"
      ]
     },
     "execution_count": 7,
     "metadata": {},
     "output_type": "execute_result"
    }
   ],
   "source": [
    "i=0\n",
    "Masks_paths = natsorted(list(Path(folders[i],'mask_improved').glob('*.tif')))\n",
    "Imgs_paths = natsorted(list(Path(folders[i],'Resized').glob('*.tif')))\n",
    "folders[i]"
   ]
  },
  {
   "cell_type": "code",
   "execution_count": 8,
   "id": "d918fcef-da87-405f-be8c-aa4ab0cc876c",
   "metadata": {},
   "outputs": [],
   "source": [
    "def create_stack(paths):\n",
    "    imgs = [io.imread(path) for path in paths]\n",
    "    max_y = np.max([img.shape[0] for img in imgs])\n",
    "    max_x = np.max([img.shape[1] for img in imgs])\n",
    "    \n",
    "    stack = np.empty((len(imgs),max_y,max_x))\n",
    "    for i,img in enumerate(imgs):\n",
    "        diff_y =  max_y - img.shape[0] \n",
    "        diff_x =  max_x - img.shape[1] \n",
    "        stack[i,diff_y:,diff_x:] = img\n",
    "        \n",
    "    return stack"
   ]
  },
  {
   "cell_type": "code",
   "execution_count": 9,
   "id": "d316e83a-0ab7-4c86-aa97-5911293d9b6c",
   "metadata": {},
   "outputs": [],
   "source": [
    "#stack_masks = create_stack(Masks_paths)\n",
    "stack_imgs = create_stack(Imgs_paths)"
   ]
  },
  {
   "cell_type": "code",
   "execution_count": 10,
   "id": "ed6a9f42-fa85-4799-9fa6-6c84d3eec82e",
   "metadata": {},
   "outputs": [
    {
     "name": "stderr",
     "output_type": "stream",
     "text": [
      "WARNING: DirectWrite: CreateFontFaceFromHDC() failed (Indicates an error in an input file such as a font file.) for QFontDef(Family=\"8514oem\", pointsize=12, pixelsize=20, styleHint=5, weight=50, stretch=100, hintingPreference=0) LOGFONT(\"8514oem\", lfWidth=0, lfHeight=-20) dpi=144\n",
      "25-Jul-25 10:54:26 - vispy    - WARNING  - DirectWrite: CreateFontFaceFromHDC() failed (Indicates an error in an input file such as a font file.) for QFontDef(Family=\"8514oem\", pointsize=12, pixelsize=20, styleHint=5, weight=50, stretch=100, hintingPreference=0) LOGFONT(\"8514oem\", lfWidth=0, lfHeight=-20) dpi=144\n"
     ]
    },
    {
     "data": {
      "text/plain": [
       "<Image layer 'stack_imgs' at 0x21cc15d6b50>"
      ]
     },
     "execution_count": 10,
     "metadata": {},
     "output_type": "execute_result"
    }
   ],
   "source": [
    "viewer = napari.Viewer()\n",
    "viewer.add_image(stack_imgs)\n",
    "#viewer.add_image(stack_imgs)\n",
    "#viewer.add_labels(stack_masks>0)"
   ]
  },
  {
   "cell_type": "code",
   "execution_count": 14,
   "id": "69724ca0-a366-489f-9a03-0ab4ca4d9395",
   "metadata": {},
   "outputs": [
    {
     "ename": "NameError",
     "evalue": "name 'stack_masks' is not defined",
     "output_type": "error",
     "traceback": [
      "\u001b[1;31m---------------------------------------------------------------------------\u001b[0m",
      "\u001b[1;31mNameError\u001b[0m                                 Traceback (most recent call last)",
      "\u001b[1;32m<ipython-input-14-8ce09c65c098>\u001b[0m in \u001b[0;36m<module>\u001b[1;34m\u001b[0m\n\u001b[0;32m      1\u001b[0m \u001b[1;31m#viewer.add_image(stack_imgs)\u001b[0m\u001b[1;33m\u001b[0m\u001b[1;33m\u001b[0m\u001b[0m\n\u001b[1;32m----> 2\u001b[1;33m \u001b[0mviewer\u001b[0m\u001b[1;33m.\u001b[0m\u001b[0madd_labels\u001b[0m\u001b[1;33m(\u001b[0m\u001b[0mstack_masks\u001b[0m\u001b[1;33m>\u001b[0m\u001b[1;36m0\u001b[0m\u001b[1;33m)\u001b[0m\u001b[1;33m\u001b[0m\u001b[1;33m\u001b[0m\u001b[0m\n\u001b[0m",
      "\u001b[1;31mNameError\u001b[0m: name 'stack_masks' is not defined"
     ]
    },
    {
     "name": "stderr",
     "output_type": "stream",
     "text": [
      "WARNING: QWindowsWindow::setGeometry: Unable to set geometry 1920x1064+0+34 (frame: 1942x1120-11-11) on QWidgetWindow/\"_QtMainWindowClassWindow\" on \"\\\\.\\DISPLAY1\". Resulting geometry: 1920x974+0+34 (frame: 1942x1030-11-11) margins: 11, 45, 11, 11 minimum size: 434x532 MINMAXINFO maxSize=0,0 maxpos=0,0 mintrack=890,1120 maxtrack=0,0)\n",
      "25-Jul-25 11:05:04 - vispy    - WARNING  - QWindowsWindow::setGeometry: Unable to set geometry 1920x1064+0+34 (frame: 1942x1120-11-11) on QWidgetWindow/\"_QtMainWindowClassWindow\" on \"\\\\.\\DISPLAY1\". Resulting geometry: 1920x974+0+34 (frame: 1942x1030-11-11) margins: 11, 45, 11, 11 minimum size: 434x532 MINMAXINFO maxSize=0,0 maxpos=0,0 mintrack=890,1120 maxtrack=0,0)\n"
     ]
    }
   ],
   "source": [
    "#viewer.add_image(stack_imgs)\n",
    "#viewer.add_labels(stack_masks>0)"
   ]
  },
  {
   "cell_type": "code",
   "execution_count": 12,
   "id": "66155c42-59d7-4f9a-9cfc-244cf2b00711",
   "metadata": {},
   "outputs": [
    {
     "name": "stdout",
     "output_type": "stream",
     "text": [
      "hoi\n"
     ]
    }
   ],
   "source": [
    "print('hoi')"
   ]
  },
  {
   "cell_type": "code",
   "execution_count": 13,
   "id": "4bc0a022-e39f-499b-b191-3f20a6fdbcd6",
   "metadata": {},
   "outputs": [
    {
     "ename": "KeyError",
     "evalue": "\"'Labels' is not in list\"",
     "output_type": "error",
     "traceback": [
      "\u001b[1;31m---------------------------------------------------------------------------\u001b[0m",
      "\u001b[1;31mValueError\u001b[0m                                Traceback (most recent call last)",
      "\u001b[1;32m~\\anaconda3\\envs\\quant\\lib\\site-packages\\napari\\utils\\events\\containers\\_typed.py\u001b[0m in \u001b[0;36m__getitem__\u001b[1;34m(self, key)\u001b[0m\n\u001b[0;32m    143\u001b[0m             \u001b[1;32mtry\u001b[0m\u001b[1;33m:\u001b[0m\u001b[1;33m\u001b[0m\u001b[1;33m\u001b[0m\u001b[0m\n\u001b[1;32m--> 144\u001b[1;33m                 \u001b[1;32mreturn\u001b[0m \u001b[0mself\u001b[0m\u001b[1;33m.\u001b[0m\u001b[0m__getitem__\u001b[0m\u001b[1;33m(\u001b[0m\u001b[0mself\u001b[0m\u001b[1;33m.\u001b[0m\u001b[0mindex\u001b[0m\u001b[1;33m(\u001b[0m\u001b[0mkey\u001b[0m\u001b[1;33m)\u001b[0m\u001b[1;33m)\u001b[0m\u001b[1;33m\u001b[0m\u001b[1;33m\u001b[0m\u001b[0m\n\u001b[0m\u001b[0;32m    145\u001b[0m             \u001b[1;32mexcept\u001b[0m \u001b[0mValueError\u001b[0m \u001b[1;32mas\u001b[0m \u001b[0me\u001b[0m\u001b[1;33m:\u001b[0m\u001b[1;33m\u001b[0m\u001b[1;33m\u001b[0m\u001b[0m\n",
      "\u001b[1;32m~\\anaconda3\\envs\\quant\\lib\\site-packages\\napari\\utils\\events\\containers\\_typed.py\u001b[0m in \u001b[0;36mindex\u001b[1;34m(self, value, start, stop)\u001b[0m\n\u001b[0;32m    235\u001b[0m \u001b[1;33m\u001b[0m\u001b[0m\n\u001b[1;32m--> 236\u001b[1;33m         raise ValueError(\n\u001b[0m\u001b[0;32m    237\u001b[0m             trans._(\n",
      "\u001b[1;31mValueError\u001b[0m: 'Labels' is not in list",
      "\nThe above exception was the direct cause of the following exception:\n",
      "\u001b[1;31mKeyError\u001b[0m                                  Traceback (most recent call last)",
      "\u001b[1;32m<ipython-input-13-369de07f1f94>\u001b[0m in \u001b[0;36m<module>\u001b[1;34m\u001b[0m\n\u001b[1;32m----> 1\u001b[1;33m \u001b[0mlabels\u001b[0m \u001b[1;33m=\u001b[0m \u001b[0mviewer\u001b[0m\u001b[1;33m.\u001b[0m\u001b[0mlayers\u001b[0m\u001b[1;33m[\u001b[0m\u001b[1;34m'Labels'\u001b[0m\u001b[1;33m]\u001b[0m\u001b[1;33m.\u001b[0m\u001b[0mdata\u001b[0m\u001b[1;33m\u001b[0m\u001b[1;33m\u001b[0m\u001b[0m\n\u001b[0m",
      "\u001b[1;32m~\\anaconda3\\envs\\quant\\lib\\site-packages\\napari\\components\\layerlist.py\u001b[0m in \u001b[0;36m__getitem__\u001b[1;34m(self, item)\u001b[0m\n\u001b[0;32m    168\u001b[0m \u001b[1;33m\u001b[0m\u001b[0m\n\u001b[0;32m    169\u001b[0m     \u001b[1;32mdef\u001b[0m \u001b[0m__getitem__\u001b[0m\u001b[1;33m(\u001b[0m\u001b[0mself\u001b[0m\u001b[1;33m,\u001b[0m \u001b[0mitem\u001b[0m\u001b[1;33m)\u001b[0m\u001b[1;33m:\u001b[0m\u001b[1;33m\u001b[0m\u001b[1;33m\u001b[0m\u001b[0m\n\u001b[1;32m--> 170\u001b[1;33m         \u001b[1;32mreturn\u001b[0m \u001b[0msuper\u001b[0m\u001b[1;33m(\u001b[0m\u001b[1;33m)\u001b[0m\u001b[1;33m.\u001b[0m\u001b[0m__getitem__\u001b[0m\u001b[1;33m(\u001b[0m\u001b[0mitem\u001b[0m\u001b[1;33m)\u001b[0m\u001b[1;33m\u001b[0m\u001b[1;33m\u001b[0m\u001b[0m\n\u001b[0m\u001b[0;32m    171\u001b[0m \u001b[1;33m\u001b[0m\u001b[0m\n\u001b[0;32m    172\u001b[0m     \u001b[1;32mdef\u001b[0m \u001b[0m__setitem__\u001b[0m\u001b[1;33m(\u001b[0m\u001b[0mself\u001b[0m\u001b[1;33m,\u001b[0m \u001b[0mkey\u001b[0m\u001b[1;33m,\u001b[0m \u001b[0mvalue\u001b[0m\u001b[1;33m)\u001b[0m\u001b[1;33m:\u001b[0m\u001b[1;33m\u001b[0m\u001b[1;33m\u001b[0m\u001b[0m\n",
      "\u001b[1;32m~\\anaconda3\\envs\\quant\\lib\\site-packages\\napari\\utils\\events\\containers\\_typed.py\u001b[0m in \u001b[0;36m__getitem__\u001b[1;34m(self, key)\u001b[0m\n\u001b[0;32m    144\u001b[0m                 \u001b[1;32mreturn\u001b[0m \u001b[0mself\u001b[0m\u001b[1;33m.\u001b[0m\u001b[0m__getitem__\u001b[0m\u001b[1;33m(\u001b[0m\u001b[0mself\u001b[0m\u001b[1;33m.\u001b[0m\u001b[0mindex\u001b[0m\u001b[1;33m(\u001b[0m\u001b[0mkey\u001b[0m\u001b[1;33m)\u001b[0m\u001b[1;33m)\u001b[0m\u001b[1;33m\u001b[0m\u001b[1;33m\u001b[0m\u001b[0m\n\u001b[0;32m    145\u001b[0m             \u001b[1;32mexcept\u001b[0m \u001b[0mValueError\u001b[0m \u001b[1;32mas\u001b[0m \u001b[0me\u001b[0m\u001b[1;33m:\u001b[0m\u001b[1;33m\u001b[0m\u001b[1;33m\u001b[0m\u001b[0m\n\u001b[1;32m--> 146\u001b[1;33m                 \u001b[1;32mraise\u001b[0m \u001b[0mKeyError\u001b[0m\u001b[1;33m(\u001b[0m\u001b[0mstr\u001b[0m\u001b[1;33m(\u001b[0m\u001b[0me\u001b[0m\u001b[1;33m)\u001b[0m\u001b[1;33m)\u001b[0m \u001b[1;32mfrom\u001b[0m \u001b[0me\u001b[0m\u001b[1;33m\u001b[0m\u001b[1;33m\u001b[0m\u001b[0m\n\u001b[0m\u001b[0;32m    147\u001b[0m \u001b[1;33m\u001b[0m\u001b[0m\n\u001b[0;32m    148\u001b[0m         \u001b[0mresult\u001b[0m \u001b[1;33m=\u001b[0m \u001b[0mself\u001b[0m\u001b[1;33m.\u001b[0m\u001b[0m_list\u001b[0m\u001b[1;33m[\u001b[0m\u001b[0mkey\u001b[0m\u001b[1;33m]\u001b[0m\u001b[1;33m\u001b[0m\u001b[1;33m\u001b[0m\u001b[0m\n",
      "\u001b[1;31mKeyError\u001b[0m: \"'Labels' is not in list\""
     ]
    }
   ],
   "source": [
    "labels = viewer.layers['Labels'].data"
   ]
  },
  {
   "cell_type": "code",
   "execution_count": null,
   "id": "e2718aa2-7dca-46bc-a30f-4e9d7d54c29c",
   "metadata": {},
   "outputs": [],
   "source": [
    "path = r'S:\\testing_chip_analysis\\Processed\\G45C_A5_MSR_pMyr0.5mM_G24100nM\\Ridge\\G45C_A5_MSR_pMyr0.5mM_G24100nM_Day21.tif'\n",
    "img = io.imread(path)"
   ]
  },
  {
   "cell_type": "code",
   "execution_count": null,
   "id": "bcf6be4c-c0ad-4062-bd47-40ebd068c45b",
   "metadata": {},
   "outputs": [],
   "source": [
    "from skimage import filters,morphology\n",
    "from skimage.morphology import skeletonize\n",
    "from skimage.transform import rescale, resize, hough_line, hough_line_peaks\n",
    "from scipy.ndimage import label as nlabel\n",
    "\n",
    "\n",
    "def threshold_mask(img):\n",
    "    high_threshold = filters.threshold_otsu(img) * 0.6\n",
    "    low_threshold = filters.threshold_otsu(img) * 0.3\n",
    "    hyst_thr_mask = filters.apply_hysteresis_threshold(img, low_threshold,high_threshold)\n",
    "   #cropped_hyst_thr_mask = crop_channel(hyst_thr_mask) \n",
    "    size_hyst_thr_mask = morphology.remove_small_objects(nlabel(hyst_thr_mask)[0],1000)\n",
    "\n",
    "    return size_hyst_thr_mask\n",
    "\n",
    "mask = threshold_mask(img)\n",
    "viewer.add_image(mask)"
   ]
  },
  {
   "cell_type": "code",
   "execution_count": null,
   "id": "ff9835c8-8beb-4939-96d6-8397d485d91b",
   "metadata": {},
   "outputs": [],
   "source": [
    "viewer.add_labels(mask)"
   ]
  },
  {
   "cell_type": "code",
   "execution_count": null,
   "id": "73b3af23-8ea7-4de2-a818-2f775f8f31a1",
   "metadata": {},
   "outputs": [],
   "source": [
    "labels[21] = np.where(mask>0,1,0)"
   ]
  },
  {
   "cell_type": "code",
   "execution_count": null,
   "id": "9e8f3595-371e-4ddd-b1a8-f1c85ffaf7e6",
   "metadata": {},
   "outputs": [],
   "source": [
    "viewer.add_labels(labels)"
   ]
  },
  {
   "cell_type": "code",
   "execution_count": null,
   "id": "eb4742e3-9ac8-4230-8918-00c52b12d2cc",
   "metadata": {},
   "outputs": [],
   "source": []
  }
 ],
 "metadata": {
  "kernelspec": {
   "display_name": "Python 3 (ipykernel)",
   "language": "python",
   "name": "python3"
  },
  "language_info": {
   "codemirror_mode": {
    "name": "ipython",
    "version": 3
   },
   "file_extension": ".py",
   "mimetype": "text/x-python",
   "name": "python",
   "nbconvert_exporter": "python",
   "pygments_lexer": "ipython3",
   "version": "3.10.18"
  }
 },
 "nbformat": 4,
 "nbformat_minor": 5
}
